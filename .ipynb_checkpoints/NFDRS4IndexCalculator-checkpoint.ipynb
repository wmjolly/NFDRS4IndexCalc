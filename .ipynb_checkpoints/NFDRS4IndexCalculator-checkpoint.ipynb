{
 "cells": [
  {
   "cell_type": "markdown",
   "id": "9af51b1a-c093-4d46-a969-6e8092aeb3db",
   "metadata": {},
   "source": [
    "# NFDRS Version 4 Index Calculator\n",
    "### Contact: W. Matt Jolly, william.jolly@usda.gov\n",
    "##### Version: 1.0 (13 Mar 2025)\n",
    "### Source: https://github.com/firelab/NFDRS4/blob/master/lib/NFDRS4/src/nfdrs4.cpp\n",
    "#### Ported from the iCalcIndexes function used to calculate Spread Component, Energy Release Component, Burning Index and Ignition Component"
   ]
  },
  {
   "cell_type": "code",
   "execution_count": 1,
   "id": "e9a48254-ecda-4f87-aef8-bb8acae317ae",
   "metadata": {},
   "outputs": [],
   "source": [
    "from math import *\n",
    "import numpy as np\n",
    "import matplotlib.pyplot as plt"
   ]
  },
  {
   "cell_type": "code",
   "execution_count": 31,
   "id": "1c462ad8-dfa9-463a-8eef-1d9266ded68a",
   "metadata": {},
   "outputs": [],
   "source": [
    "# Create the fuel model\n",
    "# Fuel Loads (tons/acre)\n",
    "L1 = 2.5         # 1 hr\n",
    "L10 = 2.2        # 10 hr\n",
    "L100 = 3.6       # 100 hr\n",
    "L1000 = 10.16    # 1000 hr\n",
    "LWOOD = 0.0      # Woody\n",
    "LHERB = 0.0      # Herbaceous\n",
    "LDROUGHT = 5.0   # Drought fuel loading\n",
    "\n",
    "# Surface-area-to-volume ratio of fuels (ft-1)\n",
    "SG1 = 2000       # 1 hr\n",
    "SG10 = 109       # 10 hr\n",
    "SG100 = 30       # 100 hr\n",
    "SG1000 = 8       # 1000 hr\n",
    "SGWOOD = 1500    # Woody\n",
    "SGHERB = 2000    # Herbaceous\n",
    "\n",
    "HD = 8000        # Fuel Heat Content (BTU)\n",
    "SCM = 5          # Max Spread Component (DIM)\n",
    "WNDFC = 0.2      # Wind Adjustment Factor (DIM)\n",
    "DEPTH = 0.6      # Fuel Bed Depth (ft)\n",
    "MXD = 25         # Dead fuel moisture of extinction (% dry wt)\n",
    "CTA = 0.0459137  # Convert tons per acres to pounds per square foot"
   ]
  },
  {
   "cell_type": "markdown",
   "id": "72a85494-0f06-4bba-b437-45134a5c3ea5",
   "metadata": {},
   "source": [
    "#### Define a fuel moisture scenario for use in the calculations"
   ]
  },
  {
   "cell_type": "markdown",
   "id": "7bc13264-9722-40a0-815c-70b3a77f9602",
   "metadata": {},
   "source": [
    "![NFDRS4 Calculator Example](NDFDRCalculatorExample.png)"
   ]
  },
  {
   "cell_type": "code",
   "execution_count": 32,
   "id": "8157677b-395a-451d-a600-a40fe601c6ff",
   "metadata": {},
   "outputs": [],
   "source": [
    "MC1 = 7      # 1 hr\n",
    "MC10 = 8     # 10 hr\n",
    "MC100 = 9    # 100 hr\n",
    "MC1000 = 20  # 1000 hr\n",
    "MCWOOD = 60  # Woody\n",
    "MCHERB = 60  # Herb"
   ]
  },
  {
   "cell_type": "markdown",
   "id": "1885c9e1-cb40-4168-9d36-befba36e2ed6",
   "metadata": {},
   "source": [
    "#### Other variables the Index Calculator needs"
   ]
  },
  {
   "cell_type": "code",
   "execution_count": 60,
   "id": "4ccf4884-43ca-4919-9d8d-68c223c2f50c",
   "metadata": {},
   "outputs": [],
   "source": [
    "GSI = 0.5                # GSI used for Curing Function\n",
    "GreenupThreshold = 0.2   # Green-up threshold used for Curing Function\n",
    "GSIMax = 1.0             # Max GSI used for Curing Function\n",
    "KBDI = 100               # 'Actual' KBDI value to use for testing (range 0 to 800)\n",
    "KBDIThreshold = 100      # KBDI threshold defines the start of the drought fuel loading addition\n",
    "WS = 5                   # Windspeed (mph)\n",
    "SlopeCls = 1             # Slope Class (scalar)  Time-invariant\n",
    "UseActualSlope = False   # There is an option to use the actual slope of the site (%)"
   ]
  },
  {
   "cell_type": "code",
   "execution_count": 34,
   "id": "569aaab0-2b97-4ad4-b297-9d268961522b",
   "metadata": {},
   "outputs": [],
   "source": [
    "# Convert degrees to radians\n",
    "def degreesToRadians(angleDegrees):\n",
    "    return (angleDegrees * 3.14159 / 180.0)\n"
   ]
  },
  {
   "cell_type": "markdown",
   "id": "4a3a8eda-451a-4ed4-9a2f-48d89a1cb917",
   "metadata": {},
   "source": [
    "#### Model constants for the mineral content, particle density "
   ]
  },
  {
   "cell_type": "code",
   "execution_count": 35,
   "id": "afdef6eb-3d2a-4d60-a24f-1d3fd797082f",
   "metadata": {},
   "outputs": [],
   "source": [
    "STD = STL = .0555 \n",
    "RHOD = RHOL = 32\n",
    "ETASD = ETASL = 0.4173969   # Dead and live fuel mineral damping coefficient"
   ]
  },
  {
   "cell_type": "markdown",
   "id": "dc95a6e1-1e3c-4e20-a29c-4330ea26e903",
   "metadata": {},
   "source": [
    "#### Convert all fuel loads from tons/acre to lbs/ft^2 (using CTA)"
   ]
  },
  {
   "cell_type": "code",
   "execution_count": 36,
   "id": "c944d406-1721-428a-b296-017e388ff492",
   "metadata": {},
   "outputs": [],
   "source": [
    "# Convert all fuel loads from tons/acre to lbs/ft^2 (using CTA)\n",
    "W1 = L1 * CTA\n",
    "W10 = L10 * CTA\n",
    "W100 = L100 * CTA\n",
    "W1000 = L1000 * CTA\n",
    "WWOOD = LWOOD * CTA\n",
    "WHERB = LHERB * CTA\n",
    "WWOOD = LWOOD * CTA\n",
    "WDROUGHT = LDROUGHT * CTA\n",
    "fDEPTH = DEPTH"
   ]
  },
  {
   "cell_type": "markdown",
   "id": "a21043fd-f08b-453e-b8e9-88b5accb133c",
   "metadata": {},
   "source": [
    "### Apply the drought fuel loading \n",
    "#### Based on KBDI"
   ]
  },
  {
   "cell_type": "code",
   "execution_count": 37,
   "id": "8bd9cc3e-9514-414e-a3c1-39d1bf52a627",
   "metadata": {},
   "outputs": [],
   "source": [
    "if (KBDI > KBDIThreshold ):\n",
    "    WTOTD = W1 + W10 + W100\n",
    "    WTOTL = WHERB + WWOOD\n",
    "    WTOT = WTOTD + WTOTL\n",
    "    PackingRatio = WTOT / fDEPTH\n",
    "    if (PackingRatio == 0):\n",
    "        PackingRatio = 1.0\n",
    "    WTOTD = WTOTD + W1000\n",
    "    # Calculate the 'drought unit' which is a fraction of drought fuel load applied to the fuel model\n",
    "    DroughtUnit = WDROUGHT / (800.0 - KBDIThreshold)\n",
    "    W1 = W1 + (W1 / WTOTD) * (KBDI - KBDIThreshold) * DroughtUnit\n",
    "    W10 = W10 + (W10 / WTOTD) * (KBDI - KBDIThreshold) * DroughtUnit\n",
    "    W100 = W100 + (W100 / WTOTD) * (KBDI - KBDIThreshold) * DroughtUnit\n",
    "    W1000 = W1000 + (W1000 / WTOTD) * (KBDI - KBDIThreshold) * DroughtUnit\n",
    "    WTOT = W1 + W10 + W100 + W1000 + WTOTL\n",
    "    fDEPTH = (WTOT - W1000) / PackingRatio"
   ]
  },
  {
   "cell_type": "markdown",
   "id": "0a887a0d-fb90-4d34-ad4e-0fa96889772f",
   "metadata": {},
   "source": [
    "### Calculate curing and adjust 1hr and herbaceous fuel loads \n",
    "#### Based on the Herbaceous GSI, GSIMax and Greenup Threshold"
   ]
  },
  {
   "cell_type": "code",
   "execution_count": 38,
   "id": "559912e5-8b40-4a20-9085-facd44b3fde3",
   "metadata": {},
   "outputs": [],
   "source": [
    "if  (GSI <= GreenupThreshold):\n",
    "    # If GSI is less than Green-up, then everything is fully cured\n",
    "    fctCur = 1 \n",
    "else:\n",
    "    # If GSI > GreenupTreshold, calculate the curing percentage\n",
    "    fctCur = -1.0 /(1.0 - GreenupThreshold) * (GSI/GSIMax) + 1.0/(1.0 - GreenupThreshold)\n",
    "if (fctCur < 0):\n",
    "    fctCur = 0.0\n",
    "if (fctCur > 1):\n",
    "    fctCur = 1.0\n",
    "\n",
    "# Adjust the 1hr and herb fuel loads for curing\n",
    "W1P = W1 + WHERB * fctCur                           # 1hr Fuel Load after curing\n",
    "WHERBP = WHERB * (1 - fctCur)                       # Herbaceous Fuel Load after curing"
   ]
  },
  {
   "cell_type": "markdown",
   "id": "104fc8e1-2d0c-456e-8434-169f18b2ea48",
   "metadata": {},
   "source": [
    "#### Calculate summary total loadings by fuel types"
   ]
  },
  {
   "cell_type": "code",
   "execution_count": 39,
   "id": "32afb795-9199-4320-a5c9-136a42f79722",
   "metadata": {},
   "outputs": [],
   "source": [
    "WTOTD = W1P + W10 + W100 + W1000\t\t\t\t\t# Total Dead Fuel Loading\n",
    "WTOTL = WHERBP + WWOOD\t\t\t\t\t\t\t\t# Total Live Fuel Loading\n",
    "WTOT = WTOTD + WTOTL\t\t\t\t\t\t\t\t# Total Fuel Loading\n",
    "\n",
    "# Calculate the Net Fuel Load, this basically just adjusts for the ash or inorganic content of the fuels (assumed 5.55%)\n",
    "W1N = W1P * (1.0 - STD)\t\t\t\t\t\t\t    # Net 1hr Fuel Loading (Note: This applies the 1hr fuel load after curing (W1P)\n",
    "W10N = W10 * (1.0 - STD)\t\t\t\t\t\t\t# Net 10hr Fuel Loading\n",
    "W100N = W100 * (1.0 - STD)\t\t\t\t\t\t\t# Net 100hr Fuel Loading\n",
    "WHERBN = WHERBP * (1.0 - STL)\t\t\t\t\t\t# Net Herbaceous Fuel Loading (Note: This applies the herb fuel load after curing (WHERBP)\n",
    "WWOODN = WWOOD * (1.0 - STL)\t\t\t\t\t\t# Net Woody Fuel Loading\n",
    "WTOTLN = WTOTL * (1.0 - STL)\t\t\t\t\t\t# Net Total Live Fuel Lodaing\n",
    "\n",
    "# Calculate the bulk density characteristics of the fuel bed\n",
    "RHOBED = (WTOT - W1000) / fDEPTH\t\t\t\t\t# Bulk density of the fuel bed\n",
    "RHOBAR = ((WTOTL * RHOL) + (WTOTD * RHOD)) / WTOT   # Weighted particle density of the fuel bed\n",
    "BETBAR = RHOBED / RHOBAR\t\t\t\t\t\t\t# Ratio of bulk density to particle density"
   ]
  },
  {
   "cell_type": "markdown",
   "id": "cc6e85d5-fd54-4454-83bc-128d0a488c0c",
   "metadata": {},
   "source": [
    "#### If live net fuel loading is greater than 0, calculate the Live Fuel Moisture of Extinction (MXL)"
   ]
  },
  {
   "cell_type": "code",
   "execution_count": 40,
   "id": "6320c463-34cb-4061-9d91-8c462b2322d6",
   "metadata": {},
   "outputs": [],
   "source": [
    "if (WTOTLN > 0):\n",
    "    HN1 = W1N * exp(-138.0 / SG1)\n",
    "    HN10 = W10N  * exp(-138.0 / SG10)\n",
    "    HN100 = W100N * exp(-138.0 / SG100)\n",
    "    if ((-500 / SGHERB) < -180.218):\n",
    "        HNHERB = 0\n",
    "    else:\n",
    "        HNHERB = WHERBN * exp(-500.0 / SGHERB)\n",
    "    \n",
    "    if ((-500 / SGWOOD) < -180.218):\n",
    "        HNWOOD = 0\n",
    "    else:\n",
    "        HNWOOD = WWOODN * exp(-500.0 / SGWOOD)\n",
    "\n",
    "    if ((HNHERB + HNWOOD) == 0):\n",
    "        WRAT = 0\n",
    "    else:\n",
    "        WRAT = (HN1 + HN10 + HN100) / (HNHERB + HNWOOD)\n",
    "    MCLFE = ((MC1 * HN1) + (MC10 * HN10) + (MC100 * HN100)) / (HN1 + HN10 + HN100)\n",
    "    MXL = (2.9 * WRAT * (1.0 - MCLFE / MXD) - 0.226) * 100\n",
    "\n",
    "else:\n",
    "    MXL = 0\n",
    "\n",
    "if (MXL < MXD): MXL = MXD"
   ]
  },
  {
   "cell_type": "markdown",
   "id": "17aa6622-f909-424b-b6e4-d44afe4b1278",
   "metadata": {},
   "source": [
    "### Calculate the surface area of the 6 fuel classes\n",
    "#### SA = (Loadings / Density) * Surface-area-to-volume ratio"
   ]
  },
  {
   "cell_type": "markdown",
   "id": "74065d74-a3ee-4b09-b42f-b14b3210c49c",
   "metadata": {},
   "source": [
    "##### Note: These have to be done after the curing and load transfer has taken place"
   ]
  },
  {
   "cell_type": "code",
   "execution_count": 41,
   "id": "4ea3afe1-ecee-4e33-829d-92f11d429b8b",
   "metadata": {},
   "outputs": [],
   "source": [
    "SA1 = (W1P / RHOD) * SG1            # Surface area of dead 1hr fuel (Note: This applies the 1hr fuel load after curing (W1P)\n",
    "SA10 = (W10 / RHOD) * SG10          # Surface area of dead 10hr fuel\n",
    "SA100 = (W100 / RHOD) * SG100       # Surface area of dead 100hr fuel\n",
    "SAHERB = (WHERBP / RHOL) * SGHERB   # Surface area of live herbaceous fuel (Note: This applies the 1hr fuel load after curing (WHERBP)\n",
    "SAWOOD = (WWOOD / RHOL) * SGWOOD    # Surface area of live woody fuel\n",
    "SADEAD = SA1 + SA10 + SA100\t\t    # Surface area of dead fuel\n",
    "SALIVE = SAHERB + SAWOOD\t\t\t# Surface area of live fuel"
   ]
  },
  {
   "cell_type": "code",
   "execution_count": 42,
   "id": "42414d23-66b6-478f-82cb-1f9ceccbd317",
   "metadata": {},
   "outputs": [],
   "source": [
    "F1 = SA1 / SADEAD      #Proportion of dead-fuel surface area in 1-hour class,used as a weighting factor for ROS calculation\n",
    "F10 = SA10 / SADEAD    #Proportion of dead-fuel surface area in 10-hour class,used as a weighting factor for ROS calculation\n",
    "F100 = SA100 / SADEAD  #Proportion of dead-fuel surface area in 100-hour class,used as a weighting factor for ROS calculation"
   ]
  },
  {
   "cell_type": "code",
   "execution_count": 43,
   "id": "470e37f6-106a-4a70-94f1-e440ea344b52",
   "metadata": {},
   "outputs": [
    {
     "data": {
      "text/plain": [
       "1.0"
      ]
     },
     "execution_count": 43,
     "metadata": {},
     "output_type": "execute_result"
    }
   ],
   "source": [
    "F1 + F10 + F100"
   ]
  },
  {
   "cell_type": "code",
   "execution_count": 44,
   "id": "4869d1d2-be26-4af5-935b-4731aada6312",
   "metadata": {},
   "outputs": [],
   "source": [
    "if (WTOTL <=0):\n",
    "   FHERB = FWOOD = 0\n",
    "else:\n",
    "   FHERB = SAHERB / SALIVE\n",
    "   FWOOD = SAWOOD / SALIVE\n",
    "    \n",
    "FDEAD = SADEAD / (SADEAD + SALIVE)\t\t# Fraction of Dead Fuel Surface area to total loading\n",
    "FLIVE = SALIVE / (SADEAD + SALIVE)\t\t# Fraction of Live Fuel Surface area to total loading\n",
    "\n",
    "WDEADN = (F1 * W1N) + (F10 * W10N) + (F100 * W100N)\t# Weighted dead-fuel loading, (NOTE: This weighting ignores 1000hr fuels)\n",
    "\n",
    "if (SGWOOD > 1200 and SGHERB > 1200):\n",
    "    WLIVEN = WTOTLN\n",
    "else:\n",
    "    WLIVEN = (FWOOD * WWOODN) + (FHERB * WHERBN)"
   ]
  },
  {
   "cell_type": "markdown",
   "id": "6cca7dfe-9964-435a-9af4-e99f8ff70951",
   "metadata": {},
   "source": [
    "### Calculate the Spread Component"
   ]
  },
  {
   "cell_type": "code",
   "execution_count": 45,
   "id": "785b355e-8373-408a-98ca-76c6dc4dba26",
   "metadata": {},
   "outputs": [],
   "source": [
    "# Characteristic surface area-to-volume ratio of dead fuel, surface area weighted\n",
    "SGBRD = (F1 * SG1) + (F10 * SG10) + (F100 * SG100)\n",
    "# Characteristic surface area-to-volume ratio of live fuel, surface area weighted.\n",
    "SGBRL = (FHERB * SGHERB) + (FWOOD * SGWOOD)\n",
    "# Characteristic surface area-to-volume ratio of fuel bed, surface area weighted.\n",
    "SGBRT = (FDEAD * SGBRD) + (FLIVE * SGBRL)\n",
    "# Optimum packing ratio, surface area weighted\n",
    "BETOP = 3.348 * pow(SGBRT, -0.8189)\n",
    "# Weighted maximum reaction velocity of surface area\n",
    "GMAMX = pow(SGBRT, 1.5) / (495.0 + 0.0594 * pow(SGBRT, 1.5))\n",
    "AD = 133 * pow(SGBRT, -0.7913)\n",
    "# Weighted optimum reaction velocity of surface area\n",
    "GMAOP = GMAMX * pow((BETBAR / BETOP), AD) * exp(AD * (1.0 - (BETBAR / BETOP)))\n",
    "ZETA = exp((0.792 + 0.681 * pow(SGBRT, 0.5)) * (BETBAR + 0.1))\n",
    "ZETA = ZETA / (192.0 + 0.2595 * SGBRT)"
   ]
  },
  {
   "cell_type": "code",
   "execution_count": 46,
   "id": "feb537ec-d3fa-4589-a5dc-8c0386393868",
   "metadata": {},
   "outputs": [],
   "source": [
    "def Limit(val,low,high):\n",
    "    if (val < low):\n",
    "        val = low\n",
    "    if (val > high):\n",
    "        val = high\n",
    "    return val"
   ]
  },
  {
   "cell_type": "code",
   "execution_count": 47,
   "id": "ce3e604f-45c1-46d3-8858-b6e851e715db",
   "metadata": {},
   "outputs": [],
   "source": [
    "WTMCD = (F1 * MC1) + (F10 * MC10) + (F100 * MC100)\n",
    "WTMCL = (FHERB * MCHERB) + (FWOOD * MCWOOD)\n",
    "DEDRT = WTMCD / MXD\n",
    "LIVRT = WTMCL / MXL\n",
    "# Moisture damping\n",
    "ETAMD = 1.0 - 2.59 * DEDRT + 5.11 * pow(DEDRT,2.0) - 3.52 * pow(DEDRT, 3.0)\n",
    "ETMAD = Limit(ETAMD,0,1)\n",
    "ETAML = 1.0 - 2.59 * LIVRT + 5.11 * pow(LIVRT,2.0) - 3.52 * pow(LIVRT, 3.0)\n",
    "ETMAD = Limit(ETAML,0,1)\n",
    "\n",
    "B = 0.02526 * pow(SGBRT, 0.54)\n",
    "C = 7.47 * exp(-0.133 * pow(SGBRT,0.55))\n",
    "E = 0.715 * exp(-3.59 * pow(10.0, -4.0) * SGBRT)\n",
    "UFACT = C * pow(BETBAR / BETOP, -1 * E)\n",
    "# HL = HD */\n",
    "\n",
    "IR = GMAOP * ((WDEADN * HD * ETASD * ETAMD) + (WLIVEN * HD * ETASL * ETAML))"
   ]
  },
  {
   "cell_type": "code",
   "execution_count": 48,
   "id": "f0292652-7dfa-4c6a-88a8-5a54c2ebdf4e",
   "metadata": {},
   "outputs": [
    {
     "data": {
      "text/plain": [
       "2519.449397542792"
      ]
     },
     "execution_count": 48,
     "metadata": {},
     "output_type": "execute_result"
    }
   ],
   "source": [
    "IR  # Total Reaction Intensity"
   ]
  },
  {
   "cell_type": "code",
   "execution_count": 49,
   "id": "cfe930ae-3c37-4d3b-a18c-9450b26109e7",
   "metadata": {},
   "outputs": [],
   "source": [
    "if (88.0 * WS * WNDFC > 0.9 * IR):\n",
    "    PHIWND = UFACT * pow(0.9 * IR, B)\n",
    "else:\n",
    "    PHIWND = UFACT * pow(WS * 88.0 * WNDFC, B)\n",
    "match SlopeCls:\n",
    "    case 1:\n",
    "        slpfct = 0.267\n",
    "    case 2:\n",
    "        slpfct = 0.533\n",
    "    case 3:\n",
    "        slpfct = 1.068\n",
    "    case 4:\n",
    "        slpfct = 2.134\n",
    "    case 4:\n",
    "        slpfct = 4.273\n",
    "    case _:\n",
    "       slpfct = 0.267\n",
    "# Actual slopes in degrees (>5) can now be input\n",
    "# Matches forumla used in WIMS developed by Larry Bradshaw (31 Aug 2016)\n",
    "if UseActualSlope:\n",
    "    slpfct = 5.275 * (tan(degreesToRadians(SlopeCls)))\n",
    "    \n",
    "PHISLP = slpfct * pow(BETBAR, -0.3)\n",
    "XF1 = F1 * exp(-138.0 / (SG1)) * (250.0 + 11.16 * MC1)\n",
    "XF10 = F10 * exp(-138.0 / (SG10)) * (250.0 + 11.16 * MC10)\n",
    "XF100 = F100 * exp(-138.0 / (SG100)) * (250.0 + 11.16 * MC100)\n",
    "XFHERB = FHERB * exp(-138.0 / (SGHERB)) * (250.0 + 11.16 * MCHERB)\n",
    "XFWOOD = FWOOD * exp(-138.0 / (SGWOOD)) * (250.0 + 11.16 * MCWOOD)\n",
    "HTSINK = RHOBED * (FDEAD * (XF1 + XF10 + XF100) + FLIVE * (XFHERB + XFWOOD))\n",
    "SC = IR * ZETA * (1.0 + PHISLP + PHIWND) / HTSINK"
   ]
  },
  {
   "cell_type": "code",
   "execution_count": 50,
   "id": "a01ff6fa-fd0f-43a9-9308-586a0f64bfda",
   "metadata": {},
   "outputs": [
    {
     "data": {
      "text/plain": [
       "2.0696607886011473"
      ]
     },
     "execution_count": 50,
     "metadata": {},
     "output_type": "execute_result"
    }
   ],
   "source": [
    "SC"
   ]
  },
  {
   "cell_type": "markdown",
   "id": "2750d731-c355-4676-8351-08e2cd45fd7b",
   "metadata": {},
   "source": [
    "### Calculate Energy Release Component and subsequent Burning Index"
   ]
  },
  {
   "cell_type": "code",
   "execution_count": 51,
   "id": "438acf8a-d6a3-4e92-9e4e-0fb6b7236bda",
   "metadata": {},
   "outputs": [],
   "source": [
    "# Fraction of fuel loadings for Energy Release Component calculations\n",
    "F1E = W1P / WTOTD\n",
    "F10E = W10 / WTOTD\n",
    "F100E = W100 / WTOTD\n",
    "F1000E = W1000 / WTOTD"
   ]
  },
  {
   "cell_type": "code",
   "execution_count": 52,
   "id": "ecbc940b-1abe-4403-8c11-0e1965ebb160",
   "metadata": {},
   "outputs": [
    {
     "data": {
      "text/plain": [
       "1.0"
      ]
     },
     "execution_count": 52,
     "metadata": {},
     "output_type": "execute_result"
    }
   ],
   "source": [
    "F1E + F10E + F100E + F1000E"
   ]
  },
  {
   "cell_type": "code",
   "execution_count": 53,
   "id": "ffb03a12-441c-4b39-84e5-8dff58d89399",
   "metadata": {},
   "outputs": [],
   "source": [
    "# Fraction of fuel loadings for Energy Release Component calculations\n",
    "F1E = W1P / WTOTD\n",
    "F10E = W10 / WTOTD\n",
    "F100E = W100 / WTOTD\n",
    "F1000E = W1000 / WTOTD\n",
    "\n",
    "if (WTOTL <=0):\n",
    "    FHERBE = FWOODE =  0\n",
    "else:\n",
    "    FHERBE = WHERBP / WTOTL\n",
    "    FWOODE = WWOOD / WTOTL\n",
    "\n",
    "FDEADE = WTOTD / WTOT\n",
    "FLIVEE = WTOTL / WTOT\n",
    "WDEDNE = WTOTD * (1.0 - STD)\n",
    "WLIVNE = WTOTL * (1.0 - STL)\n",
    "SGBRDE = (F1E * SG1) + (F10E * SG10) + (F100E * SG100) + (F1000E * SG1000)\n",
    "SGBRLE = (FHERBE * SGHERB) + (FWOODE * SGWOOD)\n",
    "SGBRTE = (FDEADE * SGBRDE) + (FLIVEE * SGBRLE)\n",
    "BETOPE = 3.348 * pow(SGBRTE, -0.8189)\n"
   ]
  },
  {
   "cell_type": "code",
   "execution_count": 54,
   "id": "f9b152c9-1662-473e-ad7f-5e9d5086060d",
   "metadata": {},
   "outputs": [],
   "source": [
    "GMAMXE = pow(SGBRTE, 1.5) / (495.0 + 0.0594 * pow(SGBRTE, 1.5))\n",
    "ADE = 133 * pow(SGBRTE, -0.7913)\n",
    "GMAOPE = GMAMXE * pow( (BETBAR/BETOPE), ADE) * exp(ADE * (1.0 - (BETBAR / BETOPE)))\n",
    "\n",
    "WTMCDE = (F1E * MC1) + (F10E * MC10) + (F100E * MC100) + (F1000E * MC1000)\n",
    "WTMCLE = (FHERBE * MCHERB) + (FWOODE * MCWOOD)\n",
    "DEDRTE = WTMCDE / MXD\n",
    "LIVRTE = WTMCLE / MXL\n",
    "ETAMDE = 1.0 - 2.0 * DEDRTE + 1.5 * pow(DEDRTE,2.0) - 0.5 * pow(DEDRTE, 3.0)\n",
    "ETAMLE = 1.0 - 2.0 * LIVRTE + 1.5 * pow(LIVRTE,2.0) - 0.5 * pow(LIVRTE, 3.0)\n",
    "if (ETAMDE < 0): ETAMDE = 0\n",
    "if (ETAMDE > 1): ETAMDE = 1\n",
    "if (ETAMLE < 0): ETAMLE = 0\n",
    "if (ETAMLE > 1): ETAMLE = 1\n",
    "\n",
    "IRE = (FDEADE * WDEDNE * HD * ETASD * ETAMDE)\n",
    "# HL = HD */\n",
    "IRE = GMAOPE * (IRE + (FLIVEE * WLIVNE * (HD) * ETASL * ETAMLE))\n",
    "TAU = 384.0 / SGBRT\n",
    "ERC = 0.04 * IRE * TAU\n",
    "BI = (.301 * pow((SC * ERC), 0.46)) * 10.0"
   ]
  },
  {
   "cell_type": "code",
   "execution_count": 55,
   "id": "b3788cd8-873f-4377-b868-1eef542428ac",
   "metadata": {},
   "outputs": [
    {
     "data": {
      "text/plain": [
       "29.16603373213386"
      ]
     },
     "execution_count": 55,
     "metadata": {},
     "output_type": "execute_result"
    }
   ],
   "source": [
    "ERC"
   ]
  },
  {
   "cell_type": "code",
   "execution_count": 56,
   "id": "c597351d-65a9-4d2d-ac4e-2c458952ab81",
   "metadata": {},
   "outputs": [
    {
     "data": {
      "text/plain": [
       "19.84831786828181"
      ]
     },
     "execution_count": 56,
     "metadata": {},
     "output_type": "execute_result"
    }
   ],
   "source": [
    "BI"
   ]
  },
  {
   "cell_type": "markdown",
   "id": "768735d6-afce-473e-8118-9ff68e13736a",
   "metadata": {},
   "source": [
    "### Calculate Ignition Component"
   ]
  },
  {
   "cell_type": "code",
   "execution_count": 57,
   "id": "7478dfd5-d730-49e5-9bac-7e9b9c0390e7",
   "metadata": {},
   "outputs": [],
   "source": [
    "FuelTemperature = 26.6667"
   ]
  },
  {
   "cell_type": "code",
   "execution_count": 58,
   "id": "3623aa7e-7e82-481f-8ec7-0ac4d10bbdc3",
   "metadata": {},
   "outputs": [],
   "source": [
    "# Finally, calculate the Igntion Component\n",
    "TMPPRM = 0.0\n",
    "PNORM1 = 0.00232\n",
    "PNORM2 = 0.99767\n",
    "QIGN = 0.0\n",
    "CHI = 0.0\n",
    "PI = 0.0\n",
    "SCN = 0.0\n",
    "PFI = 0.0\n",
    "IC = 0.0\n",
    "if (SCM <= 0): IC = 0\n",
    "\n",
    "# Replace iTemp with the Nelson-derived fuel surface temperature\n",
    "TMPPRM = FuelTemperature\n",
    "#TMPPRM = OneHourFM.meanWtdTemperature()\n",
    "QIGN = 144.5 - (0.266 * TMPPRM) - (0.00058 * TMPPRM * TMPPRM) - (0.01 * TMPPRM * MC1) + 18.54 * (1.0 - exp(-0.151 * MC1)) + 6.4 * MC1\n",
    "\n",
    "if (QIGN >= 344.0): \n",
    "    IC = 0\n",
    "else:\n",
    "    CHI = (344.0 - QIGN) / 10.0\n",
    "    if ((pow(CHI, 3.66) * 0.000923 / 50.0) <= PNORM1):\n",
    "        IC = 0\n",
    "    else:\n",
    "    \n",
    "        PI = ((pow(CHI, 3.66) * 0.000923 / 50.0) - PNORM1) * 100.0 / PNORM2\n",
    "        if (PI < 0.0): PI = 0.0\n",
    "        if (PI > 100.0): PI = 100.0\n",
    "        SCN = 100.0 * SC / SCM\n",
    "        if (SCN > 100.0): SCN = 100.0\n",
    "        PFI = pow(SCN, 0.5)\n",
    "        IC = 0.10 * PI * PFI\n",
    "\n",
    "if (SC < 0.00001): IC = 0.0\n"
   ]
  },
  {
   "cell_type": "code",
   "execution_count": 59,
   "id": "18c30a71-624d-4c9a-a3c1-08f14e859454",
   "metadata": {},
   "outputs": [
    {
     "data": {
      "text/plain": [
       "25.02692142648017"
      ]
     },
     "execution_count": 59,
     "metadata": {},
     "output_type": "execute_result"
    }
   ],
   "source": [
    "IC"
   ]
  }
 ],
 "metadata": {
  "kernelspec": {
   "display_name": "Python 3 (ipykernel)",
   "language": "python",
   "name": "python3"
  },
  "language_info": {
   "codemirror_mode": {
    "name": "ipython",
    "version": 3
   },
   "file_extension": ".py",
   "mimetype": "text/x-python",
   "name": "python",
   "nbconvert_exporter": "python",
   "pygments_lexer": "ipython3",
   "version": "3.12.8"
  }
 },
 "nbformat": 4,
 "nbformat_minor": 5
}
